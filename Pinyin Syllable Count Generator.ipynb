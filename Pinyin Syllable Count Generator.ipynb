{
 "cells": [
  {
   "cell_type": "markdown",
   "metadata": {},
   "source": [
    "# Pinyin Syllable Count Generator Working Draft Notes\n",
    "This document details the process of experimentation related to the construction of the Pinyin Syllable Count Generator module. The module takes two columns of string data, one with unboken text in Chinese, the other with its pinyin counterpart. The package will evaluate the number of syllables in the chinese text based on the number of syllables it can detect in the supplied Latin characters. The results will be delivered as integers with commas separating the syllables in each individual word."
   ]
  },
  {
   "cell_type": "markdown",
   "metadata": {},
   "source": [
    "The Pandas package will be essential for the vector manipulation and storage."
   ]
  },
  {
   "cell_type": "code",
   "execution_count": 90,
   "metadata": {},
   "outputs": [],
   "source": [
    "import pandas as pd\n",
    "import numpy as np\n",
    "import csv\n",
    "import sys"
   ]
  },
  {
   "cell_type": "markdown",
   "metadata": {},
   "source": [
    "Because pinyin is a structured system with accepted combinations of \"initials\" (the initial sound of a syllable, e.g. the first consonant) and \"finals\" (the ending sound of a syllable, e.g. vowels ending with a consonant). One syllable in pinyin can be as small as one letter and as large as six letters. Therefore, detecting a syllable can occur in one of two ways:\n",
    "1. A sequence of pinyin letters can be compared to a list of accepted pinyin syllables. If the sequence appears in the list, or if the sequence is part of a longer accepted term (\"tia\" by itself is not an accepted syllable, however \"tiao\" and \"tian\" are), then an additional letter from the evaluated word can be added to the sequence and reevaluated. If the sequence does not appear in the list and is not part of a longer accepted term, then the last character of the sequence becomes the first character of the next syllable and the syllable count is incremented.\n",
    "2. A sequence of pinyin letters is evaluated against a DataFrame of initials and finals, utilizing the .loc command to spot matches if they exist or null values if they don't.\n",
    "\n",
    "Given these possiblities two metrics need to be considered in order to settle on the proper method for the evaluation function: speed and size. Comparing a sequence to a list of terms can be faster, however the list itself may be excessively large. Evaluating sequences by their combination of initials and finals, however, may take longer but will be result in a much smaller package. The following exercises before will test each method in a smaller scale to get a general sense of the speed vs. size issue."
   ]
  },
  {
   "cell_type": "markdown",
   "metadata": {},
   "source": [
    "## Setup for small tests\n",
    "\n",
    "An example sequence of letters will be tested with both methods."
   ]
  },
  {
   "cell_type": "code",
   "execution_count": 126,
   "metadata": {},
   "outputs": [
    {
     "name": "stdout",
     "output_type": "stream",
     "text": [
      "Python List:\n",
      "['bu', 'pa', 'pai', 'pao', 'pan']\n",
      "\n",
      "Numpy Array:\n",
      "[ True  True  True  True  True  True  True  True  True  True  True False\n",
      "  True  True  True  True  True  True  True  True  True  True  True False\n",
      " False False False False False False False False False False]\n",
      "\n",
      "Pandas DataFrame:\n",
      "      a    ai    ao    an   ang      e    ei    en   eng     er  ...     ua  \\\n",
      "ø  True  True  True  True  True   True  True  True  True   True  ...  False   \n",
      "b  True  True  True  True  True  False  True  True  True  False  ...  False   \n",
      "p  True  True  True  True  True  False  True  True  True  False  ...  False   \n",
      "\n",
      "      uo     ue     ui    uai    uan   uang     un      v     ve  \n",
      "ø  False  False  False  False  False  False  False  False  False  \n",
      "b  False  False  False  False  False  False  False  False  False  \n",
      "p  False  False  False  False  False  False  False  False  False  \n",
      "\n",
      "[3 rows x 34 columns]\n"
     ]
    }
   ],
   "source": [
    "## LIST ##\n",
    "# Import list of all pinyin combinations\n",
    "smList = []\n",
    "with open(\"pinyinList.csv\") as f:\n",
    "    r = csv.reader(f)\n",
    "    for row in r:\n",
    "        smList += row\n",
    "        \n",
    "## NUMPY/DATAFRAME ##\n",
    "# List of initials, finals for Numpy evaluation\n",
    "initList = ['ø','b','p','m','f','d','t','n','l','z','c','s',\n",
    "            'zh','ch','sh','r','j','q','x','g','k','h','y','w']\n",
    "finList = ['a','ai','ao','an','ang','e','ei','en','eng','er',\n",
    "           'o','ong','ou','i','ia','iao','ie','iu','ian','iang',\n",
    "           'in','ing','iong','u','ua','uo','ue','ui','uai','uan','uen','uang','un','v','ve']\n",
    "\n",
    "# Import Numpy array from CSV\n",
    "smAr = np.genfromtxt('pinyinDF.csv', delimiter=',', skip_header=1, filling_values=0\n",
    "                    ).astype('bool_')\n",
    "smAr = np.delete(smAr, 0, 1)\n",
    "\n",
    "# Import dataframe from CSV \n",
    "smDF = pd.read_csv('pinyinDF.csv', header=0, index_col=0, dtype={'INDEX':str})\n",
    "smDF = smDF.fillna(0).astype('bool')\n",
    "\n",
    "print('Python List:')\n",
    "print(str(smList[50:55]) + '\\n')\n",
    "print('Numpy Array:')\n",
    "print(str(smAr[0])  + '\\n')\n",
    "print('Pandas DataFrame:')\n",
    "print(smDF.head(3))"
   ]
  },
  {
   "cell_type": "code",
   "execution_count": 123,
   "metadata": {
    "scrolled": true
   },
   "outputs": [
    {
     "name": "stdout",
     "output_type": "stream",
     "text": [
      "Python List: 3760\n",
      "1.31 µs ± 26.8 ns per loop (mean ± std. dev. of 7 runs, 100000 loops each)\n",
      "\n",
      "Numpy array: 1528, without initials and finals lists: 928\n",
      "1.51 µs ± 42.7 ns per loop (mean ± std. dev. of 7 runs, 100000 loops each)\n",
      "\n",
      "DataFrame: 2419\n",
      "slice\n",
      "9.74 µs ± 224 ns per loop (mean ± std. dev. of 7 runs, 100000 loops each)\n",
      "loc\n",
      "8.12 µs ± 159 ns per loop (mean ± std. dev. of 7 runs, 100000 loops each)\n",
      "iloc\n",
      "9.38 µs ± 127 ns per loop (mean ± std. dev. of 7 runs, 100000 loops each)\n"
     ]
    }
   ],
   "source": [
    "smEval = 'teng'\n",
    "smInitial = 't'\n",
    "smFinal = 'eng'\n",
    "\n",
    "# Method 1: Python List\n",
    "print('Python List: ' + str(sys.getsizeof(smList)))\n",
    "%timeit -n 100000 smEval in smList\n",
    "\n",
    "# Method 2: Numpy Array\n",
    "print('\\nNumpy array: ' + str(sys.getsizeof(initList) +\n",
    "                              sys.getsizeof(finList) +\n",
    "                              sys.getsizeof(smAr)) +\n",
    "      ', without initials and finals lists: ' + str(sys.getsizeof(smAr)))\n",
    "%timeit -n 100000 smAr[initList.index(smInitial),finList.index(smFinal)] != True\n",
    "\n",
    "# Method 3: Pandas DataFrame\n",
    "# 3a: slice\n",
    "print('\\nDataFrame: ' + str(sys.getsizeof(smDF)))\n",
    "print('slice')\n",
    "%timeit -n 100000 smDF[smFinal][smInitial] != True\n",
    "\n",
    "# 3b: loc\n",
    "print('loc')\n",
    "%timeit -n 100000 smDF.loc[smInitial,smFinal] != True\n",
    "\n",
    "print('iloc')\n",
    "# 3c: iloc\n",
    "%timeit -n 100000 smDF.iloc[initList.index(smInitial),finList.index(smFinal)] != True"
   ]
  },
  {
   "cell_type": "code",
   "execution_count": 124,
   "metadata": {},
   "outputs": [],
   "source": [
    "def sylCount(pinyin, test=False):\n",
    "    '''Count the number of Chinese characters based on inputted pinyin text.'''\n",
    "\n",
    "    # Make sure no symbols get through. Throw out null value if so.\n",
    "    if not pinyin.replace(' ','').isalpha():\n",
    "        illegalChar = None\n",
    "        return illegalChar\n",
    "    \n",
    "    # Lists for reference\n",
    "    consonant = ['b','c','ch','d','f','g','h','j','k','l','m','n',\n",
    "                 'p','q','r','s','sh','t','w','x','y','z','zh']\n",
    "    vowel = ['a','e','i','o','u','v']\n",
    "    \n",
    "    # Variables used for pinyin evaluation\n",
    "    \n",
    "    pinyin = pinyin.strip()\n",
    "\n",
    "    initial = ''\n",
    "    final = ''\n",
    "    newSyl = False\n",
    "    syl = 1\n",
    "    sylCount = []\n",
    "    er = False\n",
    "    \n",
    "    if test == True: print('Testing ' + pinyin)\n",
    "    \n",
    "    for i,n in enumerate(str.lower(pinyin)):\n",
    "\n",
    "        if n == ' ':\n",
    "            step = '0. space'\n",
    "            if pinyin[i+1] == ' ':\n",
    "                notes = 'discard extra space'\n",
    "            else:\n",
    "                sylCount.append(syl)\n",
    "                newSyl = True\n",
    "                notes = 'new word'\n",
    "\n",
    "        elif final:\n",
    "            step = 'b. ' + initial + '|' + final + n\n",
    "            if final[-1] == 'e' and n == 'r':\n",
    "                notes = 'er'\n",
    "                if i != len(pinyin) - 1 and pinyin[i+1] != ' ':\n",
    "                    newSyl = True\n",
    "                    er = True\n",
    "                    notes += ' - not \\\"er\\\" final'\n",
    "                else:\n",
    "                    if len(final) > 1:\n",
    "                        syl += 1\n",
    "                        notes += ' - extra syl at end'\n",
    "            else:\n",
    "                notes = 'fin'\n",
    "                try:\n",
    "                    initIdx = initList.index(initial)\n",
    "                    finIdx = finList.index(final + n)\n",
    "                    result = smAr[initIdx,finIdx]\n",
    "                    notes += ' - trying ' + initial + final + n + ': ' + str(result)\n",
    "                except:\n",
    "                    result = False\n",
    "                    notes += ' - array error'\n",
    "\n",
    "                if not result:\n",
    "                    listFins = list(i for i in finList if i.startswith(final+n))\n",
    "                    if not listFins or not any(i for i in listFins if smAr[initList.index(initial),finList.index(i)]):\n",
    "                        newSyl = True\n",
    "                        notes += ' - new syl'\n",
    "                    else:\n",
    "                        final += n\n",
    "                        notes += ' - definitely more'\n",
    "                else:\n",
    "                    final += n\n",
    "                    notes += ' - maybe more'\n",
    "\n",
    "        else:\n",
    "            step = 'a. ' + initial + n\n",
    "            notes = 'init'\n",
    "            if n not in vowel:\n",
    "                initial += n\n",
    "                notes += ' - cons'\n",
    "            elif not initial:\n",
    "                initial = 'ø'\n",
    "                final = n\n",
    "                notes += ' - starting vowel'\n",
    "            else:\n",
    "                final = n\n",
    "                notes += ' - vowel'\n",
    "                \n",
    "        if test == True: print(step + ': ' + notes)\n",
    "        \n",
    "        if newSyl:\n",
    "            if n in vowel:\n",
    "                initial = 'ø'\n",
    "                final = n\n",
    "                syl += 1\n",
    "            elif n != ' ':\n",
    "                if er and pinyin[i+1] not in vowel:\n",
    "                    initial = ''\n",
    "                    if len(final) > 1:\n",
    "                        syl+= 1\n",
    "                else:\n",
    "                    initial = n\n",
    "                er = False\n",
    "                final = ''\n",
    "                syl += 1\n",
    "            else:\n",
    "                initial = ''\n",
    "                final = ''\n",
    "                syl = 1\n",
    "            if test == True: print('new syl: ' + str(syl))\n",
    "            newSyl = False\n",
    "    \n",
    "    sylCount.append(syl)\n",
    "    \n",
    "    return sylCount"
   ]
  },
  {
   "cell_type": "code",
   "execution_count": 120,
   "metadata": {},
   "outputs": [
    {
     "name": "stdout",
     "output_type": "stream",
     "text": [
      "Testing Hu Shian\n",
      "a. h: init - cons\n",
      "a. hu: init - vowel\n",
      "0. space: new word\n",
      "new syl: 1\n",
      "a. s: init - cons\n",
      "a. sh: init - cons\n",
      "a. shi: init - vowel\n",
      "b. sh|ia: fin - trying shia: False - new syl\n",
      "new syl: 2\n",
      "b. ø|an: fin - trying øan: True - maybe more\n",
      "[1, 2]\n"
     ]
    }
   ],
   "source": [
    "print(sylCount('Hu Shian', True))"
   ]
  },
  {
   "cell_type": "code",
   "execution_count": 61,
   "metadata": {},
   "outputs": [
    {
     "name": "stdout",
     "output_type": "stream",
     "text": [
      "['ian', 'iang']\n"
     ]
    }
   ],
   "source": [
    "print(list(i for i in finList if i.startswith('ian')))"
   ]
  },
  {
   "cell_type": "code",
   "execution_count": 125,
   "metadata": {},
   "outputs": [
    {
     "name": "stdout",
     "output_type": "stream",
     "text": [
      "Testing Aduan\n",
      "a. a: init - starting vowel\n",
      "b. ø|ad: fin - array error - new syl\n",
      "new syl: 2\n",
      "a. du: init - vowel\n",
      "b. d|ua: fin - trying dua: False - definitely more\n",
      "b. d|uan: fin - trying duan: True - maybe more\n",
      "Testing Aji\n",
      "a. a: init - starting vowel\n",
      "b. ø|aj: fin - array error - new syl\n",
      "new syl: 2\n",
      "a. ji: init - vowel\n",
      "Testing Arong\n",
      "a. a: init - starting vowel\n",
      "b. ø|ar: fin - array error - new syl\n",
      "new syl: 2\n",
      "a. ro: init - vowel\n",
      "b. r|on: fin - array error - definitely more\n",
      "b. r|ong: fin - trying rong: True - maybe more\n",
      "Testing Aruan\n",
      "a. a: init - starting vowel\n",
      "b. ø|ar: fin - array error - new syl\n",
      "new syl: 2\n",
      "a. ru: init - vowel\n",
      "b. r|ua: fin - trying rua: True - maybe more\n",
      "b. r|uan: fin - trying ruan: True - maybe more\n",
      "Testing Awang\n",
      "a. a: init - starting vowel\n",
      "b. ø|aw: fin - array error - new syl\n",
      "new syl: 2\n",
      "a. wa: init - vowel\n",
      "b. w|an: fin - trying wan: True - maybe more\n",
      "b. w|ang: fin - trying wang: True - maybe more\n",
      "Testing Azui\n",
      "a. a: init - starting vowel\n",
      "b. ø|az: fin - array error - new syl\n",
      "new syl: 2\n",
      "a. zu: init - vowel\n",
      "b. z|ui: fin - trying zui: True - maybe more\n",
      "Testing Beidu\n",
      "a. b: init - cons\n",
      "a. be: init - vowel\n",
      "b. b|ei: fin - trying bei: True - maybe more\n",
      "b. b|eid: fin - array error - new syl\n",
      "new syl: 2\n",
      "a. du: init - vowel\n",
      "Testing Biyu\n",
      "a. b: init - cons\n",
      "a. bi: init - vowel\n",
      "b. b|iy: fin - array error - new syl\n",
      "new syl: 2\n",
      "a. yu: init - vowel\n",
      "Testing Chaozong\n",
      "a. c: init - cons\n",
      "a. ch: init - cons\n",
      "a. cha: init - vowel\n",
      "b. ch|ao: fin - trying chao: True - maybe more\n",
      "b. ch|aoz: fin - array error - new syl\n",
      "new syl: 2\n",
      "a. zo: init - vowel\n",
      "b. z|on: fin - array error - definitely more\n",
      "b. z|ong: fin - trying zong: True - maybe more\n",
      "Testing Chisong\n",
      "a. c: init - cons\n",
      "a. ch: init - cons\n",
      "a. chi: init - vowel\n",
      "b. ch|is: fin - array error - new syl\n",
      "new syl: 2\n",
      "a. so: init - vowel\n",
      "b. s|on: fin - array error - definitely more\n",
      "b. s|ong: fin - trying song: True - maybe more\n",
      "Testing Chuer\n",
      "a. c: init - cons\n",
      "a. ch: init - cons\n",
      "a. chu: init - vowel\n",
      "b. ch|ue: fin - trying chue: False - definitely more\n",
      "b. ch|uer: er - extra syl at end\n",
      "Testing Chuncao\n",
      "a. c: init - cons\n",
      "a. ch: init - cons\n",
      "a. chu: init - vowel\n",
      "b. ch|un: fin - trying chun: False - new syl\n",
      "new syl: 2\n",
      "a. nc: init - cons\n",
      "a. nca: init - vowel\n"
     ]
    },
    {
     "ename": "ValueError",
     "evalue": "'nc' is not in list",
     "output_type": "error",
     "traceback": [
      "\u001b[0;31m---------------------------------------------------------------------------\u001b[0m",
      "\u001b[0;31mValueError\u001b[0m                                Traceback (most recent call last)",
      "\u001b[0;32m<ipython-input-125-a03a051cee44>\u001b[0m in \u001b[0;36m<module>\u001b[0;34m\u001b[0m\n\u001b[1;32m      1\u001b[0m \u001b[0mnames\u001b[0m \u001b[0;34m=\u001b[0m \u001b[0mpd\u001b[0m\u001b[0;34m.\u001b[0m\u001b[0mread_csv\u001b[0m\u001b[0;34m(\u001b[0m\u001b[0;34m'Chinese Names.csv'\u001b[0m\u001b[0;34m)\u001b[0m\u001b[0;34m\u001b[0m\u001b[0;34m\u001b[0m\u001b[0m\n\u001b[0;32m----> 2\u001b[0;31m \u001b[0mnames\u001b[0m\u001b[0;34m[\u001b[0m\u001b[0;34m'syl'\u001b[0m\u001b[0;34m]\u001b[0m \u001b[0;34m=\u001b[0m \u001b[0mnames\u001b[0m\u001b[0;34m[\u001b[0m\u001b[0;34m'EngName'\u001b[0m\u001b[0;34m]\u001b[0m\u001b[0;34m.\u001b[0m\u001b[0mapply\u001b[0m\u001b[0;34m(\u001b[0m\u001b[0msylCount\u001b[0m\u001b[0;34m,\u001b[0m \u001b[0mtest\u001b[0m\u001b[0;34m=\u001b[0m\u001b[0;32mTrue\u001b[0m\u001b[0;34m)\u001b[0m\u001b[0;34m\u001b[0m\u001b[0;34m\u001b[0m\u001b[0m\n\u001b[0m\u001b[1;32m      3\u001b[0m \u001b[0mnames\u001b[0m\u001b[0;34m[\u001b[0m\u001b[0;34m'check'\u001b[0m\u001b[0;34m]\u001b[0m \u001b[0;34m=\u001b[0m \u001b[0mnames\u001b[0m\u001b[0;34m[\u001b[0m\u001b[0;34m'ChiName'\u001b[0m\u001b[0;34m]\u001b[0m\u001b[0;34m.\u001b[0m\u001b[0mstr\u001b[0m\u001b[0;34m.\u001b[0m\u001b[0mlen\u001b[0m\u001b[0;34m(\u001b[0m\u001b[0;34m)\u001b[0m \u001b[0;34m==\u001b[0m \u001b[0mnames\u001b[0m\u001b[0;34m[\u001b[0m\u001b[0;34m'syl'\u001b[0m\u001b[0;34m]\u001b[0m\u001b[0;34m.\u001b[0m\u001b[0mapply\u001b[0m\u001b[0;34m(\u001b[0m\u001b[0msum\u001b[0m\u001b[0;34m)\u001b[0m\u001b[0;34m\u001b[0m\u001b[0;34m\u001b[0m\u001b[0m\n\u001b[1;32m      4\u001b[0m \u001b[0mnames\u001b[0m\u001b[0;34m[\u001b[0m\u001b[0;34m~\u001b[0m\u001b[0mnames\u001b[0m\u001b[0;34m[\u001b[0m\u001b[0;34m'check'\u001b[0m\u001b[0;34m]\u001b[0m\u001b[0;34m]\u001b[0m\u001b[0;34m\u001b[0m\u001b[0;34m\u001b[0m\u001b[0m\n",
      "\u001b[0;32m/anaconda3/lib/python3.7/site-packages/pandas/core/series.py\u001b[0m in \u001b[0;36mapply\u001b[0;34m(self, func, convert_dtype, args, **kwds)\u001b[0m\n\u001b[1;32m   3589\u001b[0m             \u001b[0;32melse\u001b[0m\u001b[0;34m:\u001b[0m\u001b[0;34m\u001b[0m\u001b[0;34m\u001b[0m\u001b[0m\n\u001b[1;32m   3590\u001b[0m                 \u001b[0mvalues\u001b[0m \u001b[0;34m=\u001b[0m \u001b[0mself\u001b[0m\u001b[0;34m.\u001b[0m\u001b[0mastype\u001b[0m\u001b[0;34m(\u001b[0m\u001b[0mobject\u001b[0m\u001b[0;34m)\u001b[0m\u001b[0;34m.\u001b[0m\u001b[0mvalues\u001b[0m\u001b[0;34m\u001b[0m\u001b[0;34m\u001b[0m\u001b[0m\n\u001b[0;32m-> 3591\u001b[0;31m                 \u001b[0mmapped\u001b[0m \u001b[0;34m=\u001b[0m \u001b[0mlib\u001b[0m\u001b[0;34m.\u001b[0m\u001b[0mmap_infer\u001b[0m\u001b[0;34m(\u001b[0m\u001b[0mvalues\u001b[0m\u001b[0;34m,\u001b[0m \u001b[0mf\u001b[0m\u001b[0;34m,\u001b[0m \u001b[0mconvert\u001b[0m\u001b[0;34m=\u001b[0m\u001b[0mconvert_dtype\u001b[0m\u001b[0;34m)\u001b[0m\u001b[0;34m\u001b[0m\u001b[0;34m\u001b[0m\u001b[0m\n\u001b[0m\u001b[1;32m   3592\u001b[0m \u001b[0;34m\u001b[0m\u001b[0m\n\u001b[1;32m   3593\u001b[0m         \u001b[0;32mif\u001b[0m \u001b[0mlen\u001b[0m\u001b[0;34m(\u001b[0m\u001b[0mmapped\u001b[0m\u001b[0;34m)\u001b[0m \u001b[0;32mand\u001b[0m \u001b[0misinstance\u001b[0m\u001b[0;34m(\u001b[0m\u001b[0mmapped\u001b[0m\u001b[0;34m[\u001b[0m\u001b[0;36m0\u001b[0m\u001b[0;34m]\u001b[0m\u001b[0;34m,\u001b[0m \u001b[0mSeries\u001b[0m\u001b[0;34m)\u001b[0m\u001b[0;34m:\u001b[0m\u001b[0;34m\u001b[0m\u001b[0;34m\u001b[0m\u001b[0m\n",
      "\u001b[0;32mpandas/_libs/lib.pyx\u001b[0m in \u001b[0;36mpandas._libs.lib.map_infer\u001b[0;34m()\u001b[0m\n",
      "\u001b[0;32m/anaconda3/lib/python3.7/site-packages/pandas/core/series.py\u001b[0m in \u001b[0;36mf\u001b[0;34m(x)\u001b[0m\n\u001b[1;32m   3576\u001b[0m         \u001b[0;32mif\u001b[0m \u001b[0mkwds\u001b[0m \u001b[0;32mor\u001b[0m \u001b[0margs\u001b[0m \u001b[0;32mand\u001b[0m \u001b[0;32mnot\u001b[0m \u001b[0misinstance\u001b[0m\u001b[0;34m(\u001b[0m\u001b[0mfunc\u001b[0m\u001b[0;34m,\u001b[0m \u001b[0mnp\u001b[0m\u001b[0;34m.\u001b[0m\u001b[0mufunc\u001b[0m\u001b[0;34m)\u001b[0m\u001b[0;34m:\u001b[0m\u001b[0;34m\u001b[0m\u001b[0;34m\u001b[0m\u001b[0m\n\u001b[1;32m   3577\u001b[0m             \u001b[0;32mdef\u001b[0m \u001b[0mf\u001b[0m\u001b[0;34m(\u001b[0m\u001b[0mx\u001b[0m\u001b[0;34m)\u001b[0m\u001b[0;34m:\u001b[0m\u001b[0;34m\u001b[0m\u001b[0;34m\u001b[0m\u001b[0m\n\u001b[0;32m-> 3578\u001b[0;31m                 \u001b[0;32mreturn\u001b[0m \u001b[0mfunc\u001b[0m\u001b[0;34m(\u001b[0m\u001b[0mx\u001b[0m\u001b[0;34m,\u001b[0m \u001b[0;34m*\u001b[0m\u001b[0margs\u001b[0m\u001b[0;34m,\u001b[0m \u001b[0;34m**\u001b[0m\u001b[0mkwds\u001b[0m\u001b[0;34m)\u001b[0m\u001b[0;34m\u001b[0m\u001b[0;34m\u001b[0m\u001b[0m\n\u001b[0m\u001b[1;32m   3579\u001b[0m         \u001b[0;32melse\u001b[0m\u001b[0;34m:\u001b[0m\u001b[0;34m\u001b[0m\u001b[0;34m\u001b[0m\u001b[0m\n\u001b[1;32m   3580\u001b[0m             \u001b[0mf\u001b[0m \u001b[0;34m=\u001b[0m \u001b[0mfunc\u001b[0m\u001b[0;34m\u001b[0m\u001b[0;34m\u001b[0m\u001b[0m\n",
      "\u001b[0;32m<ipython-input-124-a994eb6f5762>\u001b[0m in \u001b[0;36msylCount\u001b[0;34m(pinyin, test)\u001b[0m\n\u001b[1;32m     61\u001b[0m                 \u001b[0;32mif\u001b[0m \u001b[0;32mnot\u001b[0m \u001b[0mresult\u001b[0m\u001b[0;34m:\u001b[0m\u001b[0;34m\u001b[0m\u001b[0;34m\u001b[0m\u001b[0m\n\u001b[1;32m     62\u001b[0m                     \u001b[0mlistFins\u001b[0m \u001b[0;34m=\u001b[0m \u001b[0mlist\u001b[0m\u001b[0;34m(\u001b[0m\u001b[0mi\u001b[0m \u001b[0;32mfor\u001b[0m \u001b[0mi\u001b[0m \u001b[0;32min\u001b[0m \u001b[0mfinList\u001b[0m \u001b[0;32mif\u001b[0m \u001b[0mi\u001b[0m\u001b[0;34m.\u001b[0m\u001b[0mstartswith\u001b[0m\u001b[0;34m(\u001b[0m\u001b[0mfinal\u001b[0m\u001b[0;34m+\u001b[0m\u001b[0mn\u001b[0m\u001b[0;34m)\u001b[0m\u001b[0;34m)\u001b[0m\u001b[0;34m\u001b[0m\u001b[0;34m\u001b[0m\u001b[0m\n\u001b[0;32m---> 63\u001b[0;31m                     \u001b[0;32mif\u001b[0m \u001b[0;32mnot\u001b[0m \u001b[0mlistFins\u001b[0m \u001b[0;32mor\u001b[0m \u001b[0;32mnot\u001b[0m \u001b[0many\u001b[0m\u001b[0;34m(\u001b[0m\u001b[0mi\u001b[0m \u001b[0;32mfor\u001b[0m \u001b[0mi\u001b[0m \u001b[0;32min\u001b[0m \u001b[0mlistFins\u001b[0m \u001b[0;32mif\u001b[0m \u001b[0msmAr\u001b[0m\u001b[0;34m[\u001b[0m\u001b[0minitList\u001b[0m\u001b[0;34m.\u001b[0m\u001b[0mindex\u001b[0m\u001b[0;34m(\u001b[0m\u001b[0minitial\u001b[0m\u001b[0;34m)\u001b[0m\u001b[0;34m,\u001b[0m\u001b[0mfinList\u001b[0m\u001b[0;34m.\u001b[0m\u001b[0mindex\u001b[0m\u001b[0;34m(\u001b[0m\u001b[0mi\u001b[0m\u001b[0;34m)\u001b[0m\u001b[0;34m]\u001b[0m\u001b[0;34m)\u001b[0m\u001b[0;34m:\u001b[0m\u001b[0;34m\u001b[0m\u001b[0;34m\u001b[0m\u001b[0m\n\u001b[0m\u001b[1;32m     64\u001b[0m                         \u001b[0mnewSyl\u001b[0m \u001b[0;34m=\u001b[0m \u001b[0;32mTrue\u001b[0m\u001b[0;34m\u001b[0m\u001b[0;34m\u001b[0m\u001b[0m\n\u001b[1;32m     65\u001b[0m                         \u001b[0mnotes\u001b[0m \u001b[0;34m+=\u001b[0m \u001b[0;34m' - new syl'\u001b[0m\u001b[0;34m\u001b[0m\u001b[0;34m\u001b[0m\u001b[0m\n",
      "\u001b[0;32m<ipython-input-124-a994eb6f5762>\u001b[0m in \u001b[0;36m<genexpr>\u001b[0;34m(.0)\u001b[0m\n\u001b[1;32m     61\u001b[0m                 \u001b[0;32mif\u001b[0m \u001b[0;32mnot\u001b[0m \u001b[0mresult\u001b[0m\u001b[0;34m:\u001b[0m\u001b[0;34m\u001b[0m\u001b[0;34m\u001b[0m\u001b[0m\n\u001b[1;32m     62\u001b[0m                     \u001b[0mlistFins\u001b[0m \u001b[0;34m=\u001b[0m \u001b[0mlist\u001b[0m\u001b[0;34m(\u001b[0m\u001b[0mi\u001b[0m \u001b[0;32mfor\u001b[0m \u001b[0mi\u001b[0m \u001b[0;32min\u001b[0m \u001b[0mfinList\u001b[0m \u001b[0;32mif\u001b[0m \u001b[0mi\u001b[0m\u001b[0;34m.\u001b[0m\u001b[0mstartswith\u001b[0m\u001b[0;34m(\u001b[0m\u001b[0mfinal\u001b[0m\u001b[0;34m+\u001b[0m\u001b[0mn\u001b[0m\u001b[0;34m)\u001b[0m\u001b[0;34m)\u001b[0m\u001b[0;34m\u001b[0m\u001b[0;34m\u001b[0m\u001b[0m\n\u001b[0;32m---> 63\u001b[0;31m                     \u001b[0;32mif\u001b[0m \u001b[0;32mnot\u001b[0m \u001b[0mlistFins\u001b[0m \u001b[0;32mor\u001b[0m \u001b[0;32mnot\u001b[0m \u001b[0many\u001b[0m\u001b[0;34m(\u001b[0m\u001b[0mi\u001b[0m \u001b[0;32mfor\u001b[0m \u001b[0mi\u001b[0m \u001b[0;32min\u001b[0m \u001b[0mlistFins\u001b[0m \u001b[0;32mif\u001b[0m \u001b[0msmAr\u001b[0m\u001b[0;34m[\u001b[0m\u001b[0minitList\u001b[0m\u001b[0;34m.\u001b[0m\u001b[0mindex\u001b[0m\u001b[0;34m(\u001b[0m\u001b[0minitial\u001b[0m\u001b[0;34m)\u001b[0m\u001b[0;34m,\u001b[0m\u001b[0mfinList\u001b[0m\u001b[0;34m.\u001b[0m\u001b[0mindex\u001b[0m\u001b[0;34m(\u001b[0m\u001b[0mi\u001b[0m\u001b[0;34m)\u001b[0m\u001b[0;34m]\u001b[0m\u001b[0;34m)\u001b[0m\u001b[0;34m:\u001b[0m\u001b[0;34m\u001b[0m\u001b[0;34m\u001b[0m\u001b[0m\n\u001b[0m\u001b[1;32m     64\u001b[0m                         \u001b[0mnewSyl\u001b[0m \u001b[0;34m=\u001b[0m \u001b[0;32mTrue\u001b[0m\u001b[0;34m\u001b[0m\u001b[0;34m\u001b[0m\u001b[0m\n\u001b[1;32m     65\u001b[0m                         \u001b[0mnotes\u001b[0m \u001b[0;34m+=\u001b[0m \u001b[0;34m' - new syl'\u001b[0m\u001b[0;34m\u001b[0m\u001b[0;34m\u001b[0m\u001b[0m\n",
      "\u001b[0;31mValueError\u001b[0m: 'nc' is not in list"
     ]
    }
   ],
   "source": [
    "names = pd.read_csv('Chinese Names.csv')\n",
    "names['syl'] = names['EngName'].apply(sylCount, test=True)\n",
    "names['check'] = names['ChiName'].str.len() == names['syl'].apply(sum)\n",
    "names[~names['check']]"
   ]
  },
  {
   "cell_type": "code",
   "execution_count": 101,
   "metadata": {},
   "outputs": [
    {
     "ename": "KeyError",
     "evalue": "'syl'",
     "output_type": "error",
     "traceback": [
      "\u001b[0;31m---------------------------------------------------------------------------\u001b[0m",
      "\u001b[0;31mKeyError\u001b[0m                                  Traceback (most recent call last)",
      "\u001b[0;32m/anaconda3/lib/python3.7/site-packages/pandas/core/indexes/base.py\u001b[0m in \u001b[0;36mget_loc\u001b[0;34m(self, key, method, tolerance)\u001b[0m\n\u001b[1;32m   2656\u001b[0m             \u001b[0;32mtry\u001b[0m\u001b[0;34m:\u001b[0m\u001b[0;34m\u001b[0m\u001b[0;34m\u001b[0m\u001b[0m\n\u001b[0;32m-> 2657\u001b[0;31m                 \u001b[0;32mreturn\u001b[0m \u001b[0mself\u001b[0m\u001b[0;34m.\u001b[0m\u001b[0m_engine\u001b[0m\u001b[0;34m.\u001b[0m\u001b[0mget_loc\u001b[0m\u001b[0;34m(\u001b[0m\u001b[0mkey\u001b[0m\u001b[0;34m)\u001b[0m\u001b[0;34m\u001b[0m\u001b[0;34m\u001b[0m\u001b[0m\n\u001b[0m\u001b[1;32m   2658\u001b[0m             \u001b[0;32mexcept\u001b[0m \u001b[0mKeyError\u001b[0m\u001b[0;34m:\u001b[0m\u001b[0;34m\u001b[0m\u001b[0;34m\u001b[0m\u001b[0m\n",
      "\u001b[0;32mpandas/_libs/index.pyx\u001b[0m in \u001b[0;36mpandas._libs.index.IndexEngine.get_loc\u001b[0;34m()\u001b[0m\n",
      "\u001b[0;32mpandas/_libs/index.pyx\u001b[0m in \u001b[0;36mpandas._libs.index.IndexEngine.get_loc\u001b[0;34m()\u001b[0m\n",
      "\u001b[0;32mpandas/_libs/hashtable_class_helper.pxi\u001b[0m in \u001b[0;36mpandas._libs.hashtable.PyObjectHashTable.get_item\u001b[0;34m()\u001b[0m\n",
      "\u001b[0;32mpandas/_libs/hashtable_class_helper.pxi\u001b[0m in \u001b[0;36mpandas._libs.hashtable.PyObjectHashTable.get_item\u001b[0;34m()\u001b[0m\n",
      "\u001b[0;31mKeyError\u001b[0m: 'syl'",
      "\nDuring handling of the above exception, another exception occurred:\n",
      "\u001b[0;31mKeyError\u001b[0m                                  Traceback (most recent call last)",
      "\u001b[0;32m<ipython-input-101-f82c8d1a8049>\u001b[0m in \u001b[0;36m<module>\u001b[0;34m\u001b[0m\n\u001b[0;32m----> 1\u001b[0;31m \u001b[0mnames\u001b[0m\u001b[0;34m[\u001b[0m\u001b[0;34m(\u001b[0m\u001b[0mnames\u001b[0m\u001b[0;34m[\u001b[0m\u001b[0;34m'ChiName'\u001b[0m\u001b[0;34m]\u001b[0m\u001b[0;34m.\u001b[0m\u001b[0mstr\u001b[0m\u001b[0;34m.\u001b[0m\u001b[0mlen\u001b[0m\u001b[0;34m(\u001b[0m\u001b[0;34m)\u001b[0m \u001b[0;34m-\u001b[0m \u001b[0mnames\u001b[0m\u001b[0;34m[\u001b[0m\u001b[0;34m'syl'\u001b[0m\u001b[0;34m]\u001b[0m\u001b[0;34m.\u001b[0m\u001b[0mapply\u001b[0m\u001b[0;34m(\u001b[0m\u001b[0msum\u001b[0m\u001b[0;34m)\u001b[0m\u001b[0;34m)\u001b[0m\u001b[0;34m*\u001b[0m\u001b[0;34m-\u001b[0m\u001b[0;36m1\u001b[0m \u001b[0;34m<\u001b[0m \u001b[0;36m2\u001b[0m\u001b[0;34m]\u001b[0m\u001b[0;34m[\u001b[0m\u001b[0mnames\u001b[0m\u001b[0;34m[\u001b[0m\u001b[0;34m'check'\u001b[0m\u001b[0;34m]\u001b[0m \u001b[0;34m==\u001b[0m \u001b[0;32mFalse\u001b[0m\u001b[0;34m]\u001b[0m\u001b[0;34m\u001b[0m\u001b[0;34m\u001b[0m\u001b[0m\n\u001b[0m",
      "\u001b[0;32m/anaconda3/lib/python3.7/site-packages/pandas/core/frame.py\u001b[0m in \u001b[0;36m__getitem__\u001b[0;34m(self, key)\u001b[0m\n\u001b[1;32m   2925\u001b[0m             \u001b[0;32mif\u001b[0m \u001b[0mself\u001b[0m\u001b[0;34m.\u001b[0m\u001b[0mcolumns\u001b[0m\u001b[0;34m.\u001b[0m\u001b[0mnlevels\u001b[0m \u001b[0;34m>\u001b[0m \u001b[0;36m1\u001b[0m\u001b[0;34m:\u001b[0m\u001b[0;34m\u001b[0m\u001b[0;34m\u001b[0m\u001b[0m\n\u001b[1;32m   2926\u001b[0m                 \u001b[0;32mreturn\u001b[0m \u001b[0mself\u001b[0m\u001b[0;34m.\u001b[0m\u001b[0m_getitem_multilevel\u001b[0m\u001b[0;34m(\u001b[0m\u001b[0mkey\u001b[0m\u001b[0;34m)\u001b[0m\u001b[0;34m\u001b[0m\u001b[0;34m\u001b[0m\u001b[0m\n\u001b[0;32m-> 2927\u001b[0;31m             \u001b[0mindexer\u001b[0m \u001b[0;34m=\u001b[0m \u001b[0mself\u001b[0m\u001b[0;34m.\u001b[0m\u001b[0mcolumns\u001b[0m\u001b[0;34m.\u001b[0m\u001b[0mget_loc\u001b[0m\u001b[0;34m(\u001b[0m\u001b[0mkey\u001b[0m\u001b[0;34m)\u001b[0m\u001b[0;34m\u001b[0m\u001b[0;34m\u001b[0m\u001b[0m\n\u001b[0m\u001b[1;32m   2928\u001b[0m             \u001b[0;32mif\u001b[0m \u001b[0mis_integer\u001b[0m\u001b[0;34m(\u001b[0m\u001b[0mindexer\u001b[0m\u001b[0;34m)\u001b[0m\u001b[0;34m:\u001b[0m\u001b[0;34m\u001b[0m\u001b[0;34m\u001b[0m\u001b[0m\n\u001b[1;32m   2929\u001b[0m                 \u001b[0mindexer\u001b[0m \u001b[0;34m=\u001b[0m \u001b[0;34m[\u001b[0m\u001b[0mindexer\u001b[0m\u001b[0;34m]\u001b[0m\u001b[0;34m\u001b[0m\u001b[0;34m\u001b[0m\u001b[0m\n",
      "\u001b[0;32m/anaconda3/lib/python3.7/site-packages/pandas/core/indexes/base.py\u001b[0m in \u001b[0;36mget_loc\u001b[0;34m(self, key, method, tolerance)\u001b[0m\n\u001b[1;32m   2657\u001b[0m                 \u001b[0;32mreturn\u001b[0m \u001b[0mself\u001b[0m\u001b[0;34m.\u001b[0m\u001b[0m_engine\u001b[0m\u001b[0;34m.\u001b[0m\u001b[0mget_loc\u001b[0m\u001b[0;34m(\u001b[0m\u001b[0mkey\u001b[0m\u001b[0;34m)\u001b[0m\u001b[0;34m\u001b[0m\u001b[0;34m\u001b[0m\u001b[0m\n\u001b[1;32m   2658\u001b[0m             \u001b[0;32mexcept\u001b[0m \u001b[0mKeyError\u001b[0m\u001b[0;34m:\u001b[0m\u001b[0;34m\u001b[0m\u001b[0;34m\u001b[0m\u001b[0m\n\u001b[0;32m-> 2659\u001b[0;31m                 \u001b[0;32mreturn\u001b[0m \u001b[0mself\u001b[0m\u001b[0;34m.\u001b[0m\u001b[0m_engine\u001b[0m\u001b[0;34m.\u001b[0m\u001b[0mget_loc\u001b[0m\u001b[0;34m(\u001b[0m\u001b[0mself\u001b[0m\u001b[0;34m.\u001b[0m\u001b[0m_maybe_cast_indexer\u001b[0m\u001b[0;34m(\u001b[0m\u001b[0mkey\u001b[0m\u001b[0;34m)\u001b[0m\u001b[0;34m)\u001b[0m\u001b[0;34m\u001b[0m\u001b[0;34m\u001b[0m\u001b[0m\n\u001b[0m\u001b[1;32m   2660\u001b[0m         \u001b[0mindexer\u001b[0m \u001b[0;34m=\u001b[0m \u001b[0mself\u001b[0m\u001b[0;34m.\u001b[0m\u001b[0mget_indexer\u001b[0m\u001b[0;34m(\u001b[0m\u001b[0;34m[\u001b[0m\u001b[0mkey\u001b[0m\u001b[0;34m]\u001b[0m\u001b[0;34m,\u001b[0m \u001b[0mmethod\u001b[0m\u001b[0;34m=\u001b[0m\u001b[0mmethod\u001b[0m\u001b[0;34m,\u001b[0m \u001b[0mtolerance\u001b[0m\u001b[0;34m=\u001b[0m\u001b[0mtolerance\u001b[0m\u001b[0;34m)\u001b[0m\u001b[0;34m\u001b[0m\u001b[0;34m\u001b[0m\u001b[0m\n\u001b[1;32m   2661\u001b[0m         \u001b[0;32mif\u001b[0m \u001b[0mindexer\u001b[0m\u001b[0;34m.\u001b[0m\u001b[0mndim\u001b[0m \u001b[0;34m>\u001b[0m \u001b[0;36m1\u001b[0m \u001b[0;32mor\u001b[0m \u001b[0mindexer\u001b[0m\u001b[0;34m.\u001b[0m\u001b[0msize\u001b[0m \u001b[0;34m>\u001b[0m \u001b[0;36m1\u001b[0m\u001b[0;34m:\u001b[0m\u001b[0;34m\u001b[0m\u001b[0;34m\u001b[0m\u001b[0m\n",
      "\u001b[0;32mpandas/_libs/index.pyx\u001b[0m in \u001b[0;36mpandas._libs.index.IndexEngine.get_loc\u001b[0;34m()\u001b[0m\n",
      "\u001b[0;32mpandas/_libs/index.pyx\u001b[0m in \u001b[0;36mpandas._libs.index.IndexEngine.get_loc\u001b[0;34m()\u001b[0m\n",
      "\u001b[0;32mpandas/_libs/hashtable_class_helper.pxi\u001b[0m in \u001b[0;36mpandas._libs.hashtable.PyObjectHashTable.get_item\u001b[0;34m()\u001b[0m\n",
      "\u001b[0;32mpandas/_libs/hashtable_class_helper.pxi\u001b[0m in \u001b[0;36mpandas._libs.hashtable.PyObjectHashTable.get_item\u001b[0;34m()\u001b[0m\n",
      "\u001b[0;31mKeyError\u001b[0m: 'syl'"
     ]
    }
   ],
   "source": [
    "names[(names['ChiName'].str.len() - names['syl'].apply(sum))*-1 < 2][names['check'] == False]"
   ]
  },
  {
   "cell_type": "code",
   "execution_count": 35,
   "metadata": {
    "scrolled": false
   },
   "outputs": [
    {
     "data": {
      "text/plain": [
       "19"
      ]
     },
     "execution_count": 35,
     "metadata": {},
     "output_type": "execute_result"
    }
   ],
   "source": [
    "len('sdhdsfh fsh dsh dfh')"
   ]
  },
  {
   "cell_type": "code",
   "execution_count": 108,
   "metadata": {},
   "outputs": [
    {
     "name": "stdout",
     "output_type": "stream",
     "text": [
      "942 ns ± 7.56 ns per loop (mean ± std. dev. of 7 runs, 1000000 loops each)\n"
     ]
    }
   ],
   "source": [
    "import re\n",
    "string='42435ww'\n",
    "%timeit -n 1000000 re.search('[a-zA-Z]+',string)"
   ]
  },
  {
   "cell_type": "code",
   "execution_count": 118,
   "metadata": {},
   "outputs": [
    {
     "name": "stdout",
     "output_type": "stream",
     "text": [
      "130 ns ± 4.17 ns per loop (mean ± std. dev. of 7 runs, 1000000 loops each)\n"
     ]
    }
   ],
   "source": [
    "string='42435ww'\n",
    "%timeit -n 1000000 string.replace(' ','').isalpha()"
   ]
  },
  {
   "cell_type": "code",
   "execution_count": null,
   "metadata": {},
   "outputs": [],
   "source": []
  }
 ],
 "metadata": {
  "kernelspec": {
   "display_name": "Python 3",
   "language": "python",
   "name": "python3"
  }
 },
 "nbformat": 4,
 "nbformat_minor": 2
}
